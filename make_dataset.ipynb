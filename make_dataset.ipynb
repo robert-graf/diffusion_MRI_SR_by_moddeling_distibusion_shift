{
 "cells": [
  {
   "cell_type": "markdown",
   "metadata": {},
   "source": [
    "# Data Generation\n",
    "\n",
    "Step 1. Find the HR images on your file system and add them a list of string/Path"
   ]
  },
  {
   "cell_type": "code",
   "execution_count": null,
   "metadata": {},
   "outputs": [],
   "source": [
    "from pathlib import Path\n",
    "\n",
    "from datagen import dataset_generation\n",
    "\n",
    "trainings_nii_paths = []\n",
    "\n",
    "\n",
    "##### TODO ADD you training niis ######\n",
    "dataset_name = \"my_dataset\"\n",
    "name_folder = \"sag\"  # \"ax\"\n",
    "sr_target = 0.8571  # 0.5\n",
    "root = \"/media/data/robert/datasets/dataset-neuropoly/\"\n",
    "for i in Path(root).rglob(f\"*/*_acq-{name_folder}_*T2w.nii.gz\"):\n",
    "    if \"manual\" in str(i):\n",
    "        continue\n",
    "    if \"stitched\" in str(i):\n",
    "        continue\n",
    "    trainings_nii_paths.append(i)\n",
    "########################################"
   ]
  },
  {
   "cell_type": "markdown",
   "metadata": {},
   "source": [
    "Step 2 make a jpg dataset"
   ]
  },
  {
   "cell_type": "code",
   "execution_count": null,
   "metadata": {},
   "outputs": [],
   "source": [
    "if name_folder == \"ax\":\n",
    "    dataset_generation.make_ds(\n",
    "        dataset=trainings_nii_paths,\n",
    "        acq=\"ax\",\n",
    "        name_folder=name_folder,\n",
    "        orientation=(\"I\", \"R\", \"P\"),  # First letter is where we cut in to slices, Second it to upscale plane\n",
    "        zoom=(-1, sr_target, sr_target),\n",
    "        out=f\"dataset/{dataset_name}/\",\n",
    "    )\n",
    "else:\n",
    "    ## Sag\n",
    "    dataset_generation.make_ds(\n",
    "        dataset=\"trainings_nii_paths\",\n",
    "        acq=\"sag\",\n",
    "        name_folder=name_folder,\n",
    "        orientation=(\"R\", \"I\", \"P\"),\n",
    "        zoom=(-1, sr_target, sr_target),\n",
    "        out=f\"/dataset/{dataset_name}/\",\n",
    "    )"
   ]
  },
  {
   "cell_type": "code",
   "execution_count": null,
   "metadata": {},
   "outputs": [],
   "source": [
    "sr_source = None\n",
    "if name_folder == \"ax\":\n",
    "    sr_source = [2.5 + i / 10 for i in range(30)]\n",
    "config = f\"\"\"# Training\n",
    "experiment_name: {dataset_name}\n",
    "lr: 0.0001\n",
    "batch_size:  32\n",
    "target_batch_factor: 8\n",
    "batch_size_eval:32\n",
    "total_samples:50_000_000\n",
    "batch_size_eval:  10\n",
    "gpus: [0]\n",
    "num_cpu: 16\n",
    "# Logging\n",
    "log_dir: \"lightning_logs_dae\"\n",
    "fast_dev_run : False\n",
    "optimizer : adam\n",
    "weight_decay:  0.0\n",
    "dataset :\"dataset/{dataset_name}/train/{name_folder}\"\n",
    "dataset_val: \"dataset/{dataset_name}/val/{name_folder}\"\n",
    "in_channels:  1  # Channel of the Noised input\n",
    "img_size: 160\n",
    "dims:  2\n",
    "monitor: \"train/avg_loss\"\n",
    "# Dataset\n",
    "ds_type: \"csv_2D_super\"\n",
    "x_start: \"hq\"\n",
    "image_name : \"img_lr\"\n",
    "palette_condition: [\"img_lr\"]\n",
    "sr_source: {sr_source}\n",
    "sr_target:{sr_target}\n",
    "## Other by Model ##\n",
    "train_mode : \"diffusion\"\n",
    "model_type : \"palette_only\"\n",
    "ablation_lvl: 11\n",
    "\"\"\"\n",
    "config_f = f\"config/{dataset_name}.conf\"\n",
    "\n",
    "with open(config_f, \"w\") as file:\n",
    "    file.write(config)\n",
    "print(f\"you can now start the training with:\\n python train_DAE.py --config {config_f}\")"
   ]
  },
  {
   "cell_type": "code",
   "execution_count": null,
   "metadata": {},
   "outputs": [],
   "source": []
  }
 ],
 "metadata": {
  "kernelspec": {
   "display_name": "Python 3",
   "language": "python",
   "name": "python3"
  },
  "language_info": {
   "codemirror_mode": {
    "name": "ipython",
    "version": 3
   },
   "file_extension": ".py",
   "mimetype": "text/x-python",
   "name": "python",
   "nbconvert_exporter": "python",
   "pygments_lexer": "ipython3",
   "version": "3.10.13"
  }
 },
 "nbformat": 4,
 "nbformat_minor": 0
}
